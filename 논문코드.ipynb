{
  "cells": [
    {
      "cell_type": "code",
      "execution_count": null,
      "metadata": {
        "colab": {
          "base_uri": "https://localhost:8080/"
        },
        "id": "Xpb_2mw0_sCB",
        "outputId": "6da4f48f-36a3-4493-f53d-13efae39aee0"
      },
      "outputs": [
        {
          "output_type": "stream",
          "name": "stdout",
          "text": [
            "Looking in indexes: https://pypi.org/simple, https://us-python.pkg.dev/colab-wheels/public/simple/\n",
            "Collecting torchmetrics\n",
            "  Downloading torchmetrics-0.11.0-py3-none-any.whl (512 kB)\n",
            "\u001b[K     |████████████████████████████████| 512 kB 4.6 MB/s \n",
            "\u001b[?25hRequirement already satisfied: numpy>=1.17.2 in /usr/local/lib/python3.8/dist-packages (from torchmetrics) (1.21.6)\n",
            "Requirement already satisfied: torch>=1.8.1 in /usr/local/lib/python3.8/dist-packages (from torchmetrics) (1.13.0+cu116)\n",
            "Requirement already satisfied: packaging in /usr/local/lib/python3.8/dist-packages (from torchmetrics) (21.3)\n",
            "Requirement already satisfied: typing-extensions in /usr/local/lib/python3.8/dist-packages (from torchmetrics) (4.4.0)\n",
            "Requirement already satisfied: pyparsing!=3.0.5,>=2.0.2 in /usr/local/lib/python3.8/dist-packages (from packaging->torchmetrics) (3.0.9)\n",
            "Installing collected packages: torchmetrics\n",
            "Successfully installed torchmetrics-0.11.0\n"
          ]
        }
      ],
      "source": [
        "!pip install torchmetrics"
      ]
    },
    {
      "cell_type": "code",
      "execution_count": null,
      "metadata": {
        "id": "oNaCUZUSO2i6"
      },
      "outputs": [],
      "source": [
        "import numpy as np\n",
        "import pandas as pd\n",
        "\n",
        "import torch\n",
        "import torch.nn as nn\n",
        "import torch.optim as optim\n",
        "import torch.nn.functional as F\n",
        "\n",
        "import matplotlib.pyplot as plt\n",
        "import time\n",
        "\n",
        "from torchmetrics.classification import MulticlassPrecision\n",
        "from torchmetrics.classification import MulticlassRecall\n",
        "\n",
        "from torch.utils.data import TensorDataset, DataLoader"
      ]
    },
    {
      "cell_type": "code",
      "execution_count": null,
      "metadata": {
        "id": "TAqIxuODbQSf"
      },
      "outputs": [],
      "source": [
        "np.random.seed(2022)\n",
        "torch.manual_seed(2022)\n",
        "\n",
        "beta1 = np.array([-3.0, 1.0, 2.0, 0.0, -1.0])*5\n",
        "beta2 = np.array([-2.0, -1.0, 4.0, 4.0, -2.0])*5\n",
        "beta3 = np.array([-1.0, 2.0,  3.0, 2.0, -3.0])*5\n",
        "beta4 = np.array([0.0, -2.0,  2.0, 3.0, 1.0])*5\n",
        "beta5 = np.array([-5.0, 1.5,   1.0, -1.0, 2.0])*5\n",
        "beta6 = np.array([2.0, -1.5,  2.0, -2.0, -3.0])*5\n",
        "beta7 = np.array([-1.0, 0,     3.0, 3.0, -2.0])*5\n",
        "\n",
        "sample_size = 10000\n",
        "n = 7\n",
        "nYear = 11\n",
        "\n",
        "X = np.stack((np.ones(shape=sample_size),\n",
        "              np.random.binomial(n=1, p=0.6, size=sample_size),   \n",
        "              np.random.binomial(n=1, p=0.4, size=sample_size),   \n",
        "              np.random.binomial(n=1, p=0.3, size=sample_size),\n",
        "              np.random.binomial(n=1, p=0.7, size=sample_size)), \n",
        "              axis=1)\n"
      ]
    },
    {
      "cell_type": "code",
      "execution_count": null,
      "metadata": {
        "id": "mhOMFVAWgbSg"
      },
      "outputs": [],
      "source": [
        "theta = np.full((sample_size, n, nYear), 0.0)\n",
        "a1 = 0.6\n",
        "a2 = 0.8\n",
        "Sigma1 = ((1-a1)*np.identity(n)+ a1*np.ones([n, n]))/10000000.0\n",
        "Sigma2 = (1-a2)*np.identity(n)+ a2*np.ones([n, n])*2.0\n",
        "#sig = np.array([0.4,0.35,0.5,0.45,0.33,0.4, 0.5])*1.8\n",
        "epsilon = np.random.multivariate_normal([0]*n, Sigma1, size=nYear)\n",
        "\n",
        "for i in range(sample_size):\n",
        "    for t in range(nYear):\n",
        "        if t==0:\n",
        "            theta[i,:,t] = np.random.multivariate_normal([0]*n,Sigma2)\n",
        "        else:\n",
        "            theta[i,:,t] = theta[i,:,t-1] + epsilon[t, :]\n",
        "            "
      ]
    },
    {
      "cell_type": "code",
      "execution_count": null,
      "metadata": {
        "colab": {
          "base_uri": "https://localhost:8080/"
        },
        "id": "Kyorfhlosmk1",
        "outputId": "0947ca42-89dc-45c9-c774-a42ae3cfe505"
      },
      "outputs": [
        {
          "output_type": "execute_result",
          "data": {
            "text/plain": [
              "(11, 7)"
            ]
          },
          "metadata": {},
          "execution_count": 5
        }
      ],
      "source": [
        "epsilon.shape"
      ]
    },
    {
      "cell_type": "code",
      "execution_count": null,
      "metadata": {
        "id": "FZSMv8Z3Cxi9"
      },
      "outputs": [],
      "source": [
        "def softmax(a):\n",
        "  exp_a = np.exp(a)\n",
        "  sum_exp_a = np.sum(exp_a)\n",
        "  y = exp_a / sum_exp_a\n",
        "  return y"
      ]
    },
    {
      "cell_type": "code",
      "execution_count": null,
      "metadata": {
        "id": "nS8Ap8O6vZDp"
      },
      "outputs": [],
      "source": [
        "p_star = np.full((sample_size, n, nYear), 0.0)\n",
        "for i in range(sample_size):\n",
        "  for t in range(nYear):\n",
        "    p_star[i,:,t] = softmax(theta[i,:,t]*10)"
      ]
    },
    {
      "cell_type": "code",
      "execution_count": null,
      "metadata": {
        "colab": {
          "base_uri": "https://localhost:8080/"
        },
        "id": "WepioKhlbbkk",
        "outputId": "b52be961-14bd-40c8-ff90-6e6d9f88ee0d"
      },
      "outputs": [
        {
          "output_type": "stream",
          "name": "stdout",
          "text": [
            "(10000, 5) (10000, 7, 11)\n"
          ]
        }
      ],
      "source": [
        "print(X.shape, theta.shape)   # [N,5], [N,T,7]"
      ]
    },
    {
      "cell_type": "code",
      "execution_count": null,
      "metadata": {
        "id": "QEPerFz9t6fT"
      },
      "outputs": [],
      "source": [
        "p_star2 = np.full((sample_size, n), 0.0)\n",
        "\n",
        "for i in range(sample_size):\n",
        "    p_star2[i,:] = softmax(np.array([np.sum(X[i,:]*beta1), np.sum(X[i,:]*beta2), np.sum(X[i,:]*beta3), np.sum(X[i,:]*beta4), np.sum(X[i,:]*beta5), np.sum(X[i,:]*beta6), np.sum(X[i,:]*beta7)]))"
      ]
    },
    {
      "cell_type": "code",
      "execution_count": null,
      "metadata": {
        "id": "9jYXjztXDJ6N"
      },
      "outputs": [],
      "source": [
        "p_star2 = p_star2[:,:,np.newaxis]\n",
        "p = (p_star*5 + p_star2)/6.0"
      ]
    },
    {
      "cell_type": "code",
      "execution_count": null,
      "metadata": {
        "id": "3uRsfk9FEN5L"
      },
      "outputs": [],
      "source": [
        "Y  = np.full((sample_size, nYear, n), 0.0)\n",
        "for i in range(sample_size):\n",
        "  for t in range(nYear):\n",
        "    Y[i,t,:] = np.random.multinomial(n=1, pvals = p[i,:,t])"
      ]
    },
    {
      "cell_type": "code",
      "execution_count": null,
      "metadata": {
        "colab": {
          "base_uri": "https://localhost:8080/"
        },
        "id": "xJar9c5IGFAI",
        "outputId": "aa288399-6151-441a-edd7-c05f2127ee1e"
      },
      "outputs": [
        {
          "output_type": "execute_result",
          "data": {
            "text/plain": [
              "(10000, 11, 7)"
            ]
          },
          "metadata": {},
          "execution_count": 12
        }
      ],
      "source": [
        "Y.shape   # [N, T, 10]"
      ]
    },
    {
      "cell_type": "code",
      "execution_count": null,
      "metadata": {
        "id": "SN3P6z63lI5Q"
      },
      "outputs": [],
      "source": [
        "Y_label = Y.argmax(axis=2)"
      ]
    },
    {
      "cell_type": "code",
      "execution_count": null,
      "metadata": {
        "colab": {
          "base_uri": "https://localhost:8080/"
        },
        "id": "9ipfOXXvoCTT",
        "outputId": "43d7f1ae-e270-4953-df9f-4980f5cfe59f"
      },
      "outputs": [
        {
          "output_type": "execute_result",
          "data": {
            "text/plain": [
              "array([0, 3, 6, 6, 3, 2, 3, 6, 3, 6, 6])"
            ]
          },
          "metadata": {},
          "execution_count": 14
        }
      ],
      "source": [
        "Y_label[0]"
      ]
    },
    {
      "cell_type": "code",
      "execution_count": null,
      "metadata": {
        "colab": {
          "base_uri": "https://localhost:8080/"
        },
        "id": "-K4rFb3SlFOQ",
        "outputId": "4931dc66-47e4-41e5-cf17-3fbf15930a73"
      },
      "outputs": [
        {
          "output_type": "execute_result",
          "data": {
            "text/plain": [
              "(10000, 11)"
            ]
          },
          "metadata": {},
          "execution_count": 15
        }
      ],
      "source": [
        "Y_label.shape"
      ]
    },
    {
      "cell_type": "markdown",
      "metadata": {
        "id": "AVE1EA6Ip1LM"
      },
      "source": [
        "#1. Softmax with X only"
      ]
    },
    {
      "cell_type": "code",
      "execution_count": null,
      "metadata": {
        "id": "hFnvlkRep1LN"
      },
      "outputs": [],
      "source": [
        "N_valid = int(sample_size*0.6)\n",
        "x_train = X[:N_valid]\n",
        "x_test = X[N_valid:]\n",
        "y_train = Y_label[:N_valid,-1]\n",
        "y_test = Y_label[N_valid:, -1]"
      ]
    },
    {
      "cell_type": "code",
      "execution_count": null,
      "metadata": {
        "colab": {
          "base_uri": "https://localhost:8080/"
        },
        "id": "aV6gxY06sLPu",
        "outputId": "ffb1a5e1-cb63-408e-a30e-2d5031d6a8fa"
      },
      "outputs": [
        {
          "output_type": "execute_result",
          "data": {
            "text/plain": [
              "array([[0, 3, 6, 6, 3, 2, 3, 6, 3, 6, 6],\n",
              "       [3, 0, 0, 0, 0, 0, 0, 0, 3, 0, 0],\n",
              "       [3, 2, 3, 3, 2, 2, 2, 3, 3, 3, 2]])"
            ]
          },
          "metadata": {},
          "execution_count": 118
        }
      ],
      "source": [
        "Y_label[:3]"
      ]
    },
    {
      "cell_type": "code",
      "execution_count": null,
      "metadata": {
        "colab": {
          "base_uri": "https://localhost:8080/"
        },
        "id": "SUkyV_V2haY5",
        "outputId": "4085bdc9-bb5e-4288-aafd-7b20a5c0c923"
      },
      "outputs": [
        {
          "output_type": "stream",
          "name": "stdout",
          "text": [
            "(6000, 5) (6000,) (4000, 5) (4000,)\n"
          ]
        }
      ],
      "source": [
        "print(x_train.shape, y_train.shape, x_test.shape, y_test.shape)"
      ]
    },
    {
      "cell_type": "code",
      "execution_count": null,
      "metadata": {
        "id": "debhldHXmbOA"
      },
      "outputs": [],
      "source": [
        "x_train = torch.tensor(x_train, dtype = torch.float32)\n",
        "y_train = torch.tensor(y_train, dtype = torch.int64)\n",
        "train_data = TensorDataset(x_train, y_train)\n",
        "trainloader = DataLoader(dataset = train_data, batch_size=32, shuffle=True)\n",
        "\n",
        "x_test = torch.tensor(x_test, dtype = torch.float32)\n",
        "y_test = torch.tensor(y_test, dtype = torch.int64)\n",
        "test_data = TensorDataset(x_test, y_test)\n",
        "testloader= DataLoader(dataset = test_data, batch_size=32, shuffle=True)"
      ]
    },
    {
      "cell_type": "code",
      "execution_count": null,
      "metadata": {
        "colab": {
          "base_uri": "https://localhost:8080/"
        },
        "id": "aPpDWUf6r_15",
        "outputId": "0e2b22da-859c-4339-882e-7fe3cfc02b2c"
      },
      "outputs": [
        {
          "output_type": "stream",
          "name": "stdout",
          "text": [
            "torch.Size([6000, 5]) torch.Size([6000])\n"
          ]
        }
      ],
      "source": [
        "print(x_train.shape, y_train.shape)"
      ]
    },
    {
      "cell_type": "code",
      "execution_count": null,
      "metadata": {
        "colab": {
          "base_uri": "https://localhost:8080/"
        },
        "id": "LZAPLUF8o71v",
        "outputId": "33fc7879-f616-413c-97c4-7a32d72804fd"
      },
      "outputs": [
        {
          "output_type": "execute_result",
          "data": {
            "text/plain": [
              "5"
            ]
          },
          "metadata": {},
          "execution_count": 122
        }
      ],
      "source": [
        "input_size = x_train.shape[1]\n",
        "input_size"
      ]
    },
    {
      "cell_type": "code",
      "execution_count": null,
      "metadata": {
        "id": "TMIhVPmop1LN"
      },
      "outputs": [],
      "source": [
        "class softmaxclassifier(nn.Module):\n",
        "  def __init__(self):\n",
        "    super().__init__()\n",
        "    self.input_size = input_size \n",
        "    self.linear = nn.Linear(input_size,7)\n",
        "\n",
        "  def forward(self,x):\n",
        "    x = self.linear(x)\n",
        "\n",
        "    return x\n"
      ]
    },
    {
      "cell_type": "code",
      "execution_count": null,
      "metadata": {
        "id": "hke5u2Mnp1LO"
      },
      "outputs": [],
      "source": [
        "model_sf1 = softmaxclassifier()\n",
        "optimizer = torch.optim.SGD(model_sf1.parameters(), lr = 0.01)\n",
        "loss_ftn = torch.nn.CrossEntropyLoss()"
      ]
    },
    {
      "cell_type": "code",
      "execution_count": null,
      "metadata": {
        "colab": {
          "base_uri": "https://localhost:8080/"
        },
        "id": "qBuy-03eQXjl",
        "outputId": "74e3a741-198e-4d2e-ae1c-d90db9fa43bb"
      },
      "outputs": [
        {
          "output_type": "execute_result",
          "data": {
            "text/plain": [
              "softmaxclassifier(\n",
              "  (linear): Linear(in_features=5, out_features=7, bias=True)\n",
              ")"
            ]
          },
          "metadata": {},
          "execution_count": 125
        }
      ],
      "source": [
        "model_sf1"
      ]
    },
    {
      "cell_type": "code",
      "execution_count": null,
      "metadata": {
        "colab": {
          "base_uri": "https://localhost:8080/"
        },
        "id": "mF4Mv8Lo-4iz",
        "outputId": "f2c1ab41-25ae-4912-e242-522ef4fde460"
      },
      "outputs": [
        {
          "output_type": "stream",
          "name": "stdout",
          "text": [
            "[epoch: 0] loss: 2.0201\n",
            "[epoch: 100] loss: 1.8989\n",
            "[epoch: 200] loss: 1.8989\n",
            "[epoch: 300] loss: 1.8989\n",
            "[epoch: 400] loss: 1.8990\n",
            "[epoch: 500] loss: 1.8989\n",
            "[epoch: 600] loss: 1.8989\n",
            "[epoch: 700] loss: 1.8989\n",
            "CPU times: user 1min 34s, sys: 278 ms, total: 1min 35s\n",
            "Wall time: 1min 36s\n"
          ]
        }
      ],
      "source": [
        "%%time \n",
        "\n",
        "loss_graph = []\n",
        "epochs = 800\n",
        "history=[]\n",
        "model_sf1.train()\n",
        "\n",
        "for epoch in range(epochs):\n",
        "  running_loss = 0.0\n",
        "  for xx, yy in trainloader:\n",
        "    yhat = model_sf1(xx)\n",
        "    loss = loss_ftn(yhat, yy)\n",
        "    optimizer.zero_grad()\n",
        "    loss.backward()\n",
        "    optimizer.step()\n",
        "    running_loss += loss.item()*len(xx)\n",
        "\n",
        "  loss_graph.append(running_loss/len(trainloader.dataset))\n",
        "  if epoch % 100 == 0:\n",
        "      print('[epoch: %d] loss: %.4f' %(epoch, running_loss/len(trainloader.dataset)))"
      ]
    },
    {
      "cell_type": "code",
      "execution_count": null,
      "metadata": {
        "colab": {
          "base_uri": "https://localhost:8080/",
          "height": 283
        },
        "id": "ibN3h-c__beG",
        "outputId": "05a0fc1d-89ad-40cf-d6f9-a5ebe005a51b"
      },
      "outputs": [
        {
          "output_type": "execute_result",
          "data": {
            "text/plain": [
              "[<matplotlib.lines.Line2D at 0x7f305da360a0>]"
            ]
          },
          "metadata": {},
          "execution_count": 127
        },
        {
          "output_type": "display_data",
          "data": {
            "text/plain": [
              "<Figure size 432x288 with 1 Axes>"
            ],
            "image/png": "[encoded data removed]"
          },
          "metadata": {
            "needs_background": "light"
          }
        }
      ],
      "source": [
        "plt.plot(loss_graph)"
      ]
    },
    {
      "cell_type": "code",
      "execution_count": null,
      "metadata": {
        "colab": {
          "base_uri": "https://localhost:8080/"
        },
        "id": "OE97V1KHzSc7",
        "outputId": "1d7e4601-1d22-40cc-e122-7a88517d17ef"
      },
      "outputs": [
        {
          "output_type": "stream",
          "name": "stdout",
          "text": [
            "Test Accuracy of SoftmaxClassifier: 26.90%\n"
          ]
        }
      ],
      "source": [
        "def testAccuracy():\n",
        "    \n",
        "    model_sf1.eval()\n",
        "    accuracy = 0.0\n",
        "    total = 0.0\n",
        "    \n",
        "    with torch.no_grad():\n",
        "        for xx, yy in testloader:\n",
        "            outputs = model_sf1(xx)\n",
        "            _, predicted = torch.max(outputs.data, 1)\n",
        "            total += xx.shape[0]\n",
        "            accuracy += (predicted == yy).sum().item()\n",
        "    accuracy = (100 * accuracy / total)\n",
        "    print('Test Accuracy of SoftmaxClassifier: %.2f%%' %(accuracy))\n",
        "\n",
        "testAccuracy()"
      ]
    },
    {
      "cell_type": "code",
      "execution_count": null,
      "metadata": {
        "colab": {
          "base_uri": "https://localhost:8080/"
        },
        "id": "ZyPbHv8D92Fu",
        "outputId": "713339c9-6592-4968-8b4c-212b70bded23"
      },
      "outputs": [
        {
          "output_type": "stream",
          "name": "stdout",
          "text": [
            "tensor(0.1082) tensor(0.1874)\n"
          ]
        }
      ],
      "source": [
        "__, pred = torch.max(model_sf1(x_test).data, 1)\n",
        "multiprecision = MulticlassPrecision(num_classes=7)\n",
        "sf_x_prec = multiprecision(pred, y_test)\n",
        "\n",
        "multirecall = MulticlassRecall(num_classes=7)\n",
        "sf_x_recall = multirecall(pred, y_test)\n",
        "\n",
        "print(sf_x_prec, sf_x_recall)"
      ]
    },
    {
      "cell_type": "code",
      "execution_count": null,
      "metadata": {
        "id": "zsxKs8SwItEW"
      },
      "outputs": [],
      "source": []
    },
    {
      "cell_type": "markdown",
      "metadata": {
        "id": "qPCAlLA4ztMw"
      },
      "source": [
        "#2. Softmax with X,Y1,...,Y10"
      ]
    },
    {
      "cell_type": "code",
      "execution_count": null,
      "metadata": {
        "id": "5aeDTJo-ztM9"
      },
      "outputs": [],
      "source": [
        "X_train = np.concatenate([X[:N_valid], Y_label[:N_valid, :-1]], axis=1)\n",
        "X_test = np.concatenate([X[N_valid:], Y_label[N_valid:, :-1]], axis=1)\n",
        "Y_train = Y_label[:N_valid, -1]\n",
        "Y_test = Y_label[N_valid:, -1]"
      ]
    },
    {
      "cell_type": "code",
      "execution_count": null,
      "metadata": {
        "id": "wC3JikYXztM9"
      },
      "outputs": [],
      "source": [
        "from torch.utils.data import TensorDataset, DataLoader\n",
        "X_train = torch.tensor(X_train, dtype = torch.float32)\n",
        "Y_train = torch.tensor(Y_train, dtype = torch.int64)\n",
        "train_data = TensorDataset(X_train, Y_train)\n",
        "trainloader= DataLoader(dataset = train_data, batch_size=128, shuffle=True)\n",
        "\n",
        "X_test = torch.tensor(X_test, dtype=torch.float32)\n",
        "Y_test = torch.tensor(Y_test, dtype=torch.int64)\n",
        "test_data = TensorDataset(X_test, Y_test)\n",
        "testloader= DataLoader(dataset = test_data, batch_size=128, shuffle=True)"
      ]
    },
    {
      "cell_type": "code",
      "execution_count": null,
      "metadata": {
        "colab": {
          "base_uri": "https://localhost:8080/"
        },
        "id": "pvNHjtcjztM-",
        "outputId": "449f8439-4d00-4fca-c923-185488c1bce7"
      },
      "outputs": [
        {
          "output_type": "execute_result",
          "data": {
            "text/plain": [
              "15"
            ]
          },
          "metadata": {},
          "execution_count": 134
        }
      ],
      "source": [
        "input_size = X_train.shape[1]\n",
        "input_size"
      ]
    },
    {
      "cell_type": "code",
      "execution_count": null,
      "metadata": {
        "id": "dkOgQOPKztM-"
      },
      "outputs": [],
      "source": [
        "class softmaxclassifier(nn.Module):\n",
        "  def __init__(self):\n",
        "    super().__init__()\n",
        "    self.input_size = input_size \n",
        "    self.linear = nn.Linear(input_size,7)\n",
        "\n",
        "  def forward(self,x):\n",
        "    x = self.linear(x)\n",
        "\n",
        "    return x\n"
      ]
    },
    {
      "cell_type": "code",
      "execution_count": null,
      "metadata": {
        "id": "XeoBgOUIztM_"
      },
      "outputs": [],
      "source": [
        "model_sf2 = softmaxclassifier()\n",
        "optimizer = torch.optim.SGD(model_sf2.parameters(), lr = 0.01)\n",
        "loss_ftn = torch.nn.CrossEntropyLoss()"
      ]
    },
    {
      "cell_type": "code",
      "execution_count": null,
      "metadata": {
        "colab": {
          "base_uri": "https://localhost:8080/"
        },
        "id": "gNlhGiYmzKeu",
        "outputId": "a6589a72-93ba-4be4-f0ff-22fa297ab8b1"
      },
      "outputs": [
        {
          "output_type": "stream",
          "name": "stdout",
          "text": [
            "softmaxclassifier(\n",
            "  (linear): Linear(in_features=15, out_features=7, bias=True)\n",
            ")\n"
          ]
        }
      ],
      "source": [
        "print(model_sf2)"
      ]
    },
    {
      "cell_type": "code",
      "execution_count": null,
      "metadata": {
        "colab": {
          "base_uri": "https://localhost:8080/"
        },
        "id": "Phk7hacjztM_",
        "outputId": "5dca820b-c324-42c9-97f1-1c57a3d779ac"
      },
      "outputs": [
        {
          "output_type": "stream",
          "name": "stdout",
          "text": [
            "[epoch: 0] loss: 2.0362\n",
            "[epoch: 100] loss: 1.5933\n",
            "[epoch: 200] loss: 1.5710\n",
            "[epoch: 300] loss: 1.5614\n",
            "[epoch: 400] loss: 1.5563\n",
            "[epoch: 500] loss: 1.5536\n",
            "[epoch: 600] loss: 1.5528\n",
            "[epoch: 700] loss: 1.5520\n",
            "CPU times: user 49.3 s, sys: 135 ms, total: 49.4 s\n",
            "Wall time: 49.9 s\n"
          ]
        }
      ],
      "source": [
        "%%time\n",
        "\n",
        "loss_graph = []\n",
        "epochs = 800\n",
        "history=[]\n",
        "model_sf2.train()\n",
        "\n",
        "for epoch in range(epochs):\n",
        "  running_loss = 0.0\n",
        "  for xx, yy in trainloader:\n",
        "    yhat = model_sf2(xx)\n",
        "    loss = loss_ftn(yhat, yy)\n",
        "    optimizer.zero_grad()\n",
        "    loss.backward()\n",
        "    optimizer.step()\n",
        "    running_loss += loss.item()*len(xx)\n",
        "\n",
        "  loss_graph.append(running_loss/len(trainloader.dataset))\n",
        "  if epoch % 100 == 0:\n",
        "      print('[epoch: %d] loss: %.4f' %(epoch, running_loss/len(trainloader.dataset)))"
      ]
    },
    {
      "cell_type": "code",
      "execution_count": null,
      "metadata": {
        "colab": {
          "base_uri": "https://localhost:8080/",
          "height": 283
        },
        "id": "0r1ud5MVztM_",
        "outputId": "cca9b928-a8b7-43a5-a8c9-9171e95842da"
      },
      "outputs": [
        {
          "output_type": "execute_result",
          "data": {
            "text/plain": [
              "[<matplotlib.lines.Line2D at 0x7f305d9aca90>]"
            ]
          },
          "metadata": {},
          "execution_count": 139
        },
        {
          "output_type": "display_data",
          "data": {
            "text/plain": [
              "<Figure size 432x288 with 1 Axes>"
            ],
            "image/png": "[encoded data removed]"
          },
          "metadata": {
            "needs_background": "light"
          }
        }
      ],
      "source": [
        "plt.plot(loss_graph)"
      ]
    },
    {
      "cell_type": "code",
      "execution_count": null,
      "metadata": {
        "colab": {
          "base_uri": "https://localhost:8080/"
        },
        "id": "Hpv38glnztNA",
        "outputId": "898648b6-aaec-4bb1-e140-4f08f2203d42"
      },
      "outputs": [
        {
          "output_type": "stream",
          "name": "stdout",
          "text": [
            "Test Accuracy of SoftmaxClassifier: 37.38%\n"
          ]
        }
      ],
      "source": [
        "def testAccuracy():\n",
        "    \n",
        "    model_sf2.eval()\n",
        "    accuracy = 0.0\n",
        "    total = 0.0\n",
        "    \n",
        "    with torch.no_grad():\n",
        "        for xx, yy in testloader:\n",
        "            outputs = model_sf2(xx)\n",
        "            _, predicted = torch.max(outputs.data, 1)\n",
        "            total += xx.shape[0]\n",
        "            accuracy += (predicted == yy).sum().item()\n",
        "    \n",
        "    accuracy = (100 * accuracy / total)\n",
        "    print('Test Accuracy of SoftmaxClassifier: %.2f%%' %(accuracy))\n",
        "\n",
        "testAccuracy()"
      ]
    },
    {
      "cell_type": "code",
      "execution_count": null,
      "metadata": {
        "colab": {
          "base_uri": "https://localhost:8080/"
        },
        "id": "1Uw35SgdzORb",
        "outputId": "febde011-027a-4532-8d35-9912afc8ec8e"
      },
      "outputs": [
        {
          "output_type": "stream",
          "name": "stdout",
          "text": [
            "tensor(0.4461) tensor(0.3538)\n"
          ]
        }
      ],
      "source": [
        "__, pred = torch.max(model_sf2(X_test).data, 1)\n",
        "multiprecision = MulticlassPrecision(num_classes=7)\n",
        "sf_xy_prec = multiprecision(pred, Y_test)\n",
        "multirecall = MulticlassRecall(num_classes=7)\n",
        "sf_xy_recall = multirecall(pred, Y_test)\n",
        "\n",
        "print(sf_xy_prec, sf_xy_recall)"
      ]
    },
    {
      "cell_type": "code",
      "execution_count": null,
      "metadata": {
        "id": "b52DYIaVzN0d"
      },
      "outputs": [],
      "source": []
    },
    {
      "cell_type": "markdown",
      "metadata": {
        "id": "CBhEQyUaNLyz"
      },
      "source": [
        "#3. DNN with X only"
      ]
    },
    {
      "cell_type": "code",
      "execution_count": null,
      "metadata": {
        "id": "TN5qhHFTT7jO"
      },
      "outputs": [],
      "source": [
        "N_valid = int(sample_size*0.6)\n",
        "x_train = X[:N_valid]\n",
        "x_test = X[N_valid:]\n",
        "y_train = Y_label[:N_valid,-1]\n",
        "y_test = Y_label[N_valid:, -1]\n",
        "\n",
        "from torch.utils.data import TensorDataset, DataLoader\n",
        "x_train = torch.tensor(x_train, dtype = torch.float32)\n",
        "y_train = torch.tensor(y_train, dtype = torch.int64)\n",
        "train_data = TensorDataset(x_train, y_train)\n",
        "trainloader = DataLoader(dataset = train_data, batch_size=32, shuffle=True)\n",
        "\n",
        "x_test = torch.tensor(x_test, dtype = torch.float32)\n",
        "y_test = torch.tensor(y_test, dtype = torch.int64)\n",
        "test_data = TensorDataset(x_test, y_test)\n",
        "testloader= DataLoader(dataset = test_data, batch_size=32, shuffle=True)"
      ]
    },
    {
      "cell_type": "code",
      "execution_count": null,
      "metadata": {
        "colab": {
          "base_uri": "https://localhost:8080/"
        },
        "id": "0dKHn6ZDOAiS",
        "outputId": "e490a12d-831f-4eae-d096-8dac45084574"
      },
      "outputs": [
        {
          "output_type": "execute_result",
          "data": {
            "text/plain": [
              "5"
            ]
          },
          "metadata": {},
          "execution_count": 49
        }
      ],
      "source": [
        "input_size = x_train.shape[1]\n",
        "input_size"
      ]
    },
    {
      "cell_type": "code",
      "execution_count": null,
      "metadata": {
        "id": "NaqWZOClMtzT"
      },
      "outputs": [],
      "source": [
        "class DNN(nn.Module):\n",
        "  def __init__(self):\n",
        "    super().__init__()\n",
        "    self.input_size = input_size \n",
        "    self.linear1 = torch.nn.Linear(input_size,15)\n",
        "    self.linear2 = torch.nn.Linear(15,10)\n",
        "    self.linear3 = torch.nn.Linear(10,7)\n",
        "    self.m = torch.nn.ReLU()\n",
        "    \n",
        "  def forward(self, x):\n",
        "    x = self.linear1(x)\n",
        "    x = self.m(x)\n",
        "    x = self.linear2(x)\n",
        "    x = self.m(x)\n",
        "    x = self.linear3(x)\n",
        "    \n",
        "    return x"
      ]
    },
    {
      "cell_type": "code",
      "execution_count": null,
      "metadata": {
        "id": "tvNl51bYMtvX"
      },
      "outputs": [],
      "source": [
        "model_dnn1 = DNN()\n",
        "optimizer = torch.optim.SGD(model_dnn1.parameters(), lr = 0.01)\n",
        "loss_ftn = torch.nn.CrossEntropyLoss()"
      ]
    },
    {
      "cell_type": "code",
      "execution_count": null,
      "metadata": {
        "colab": {
          "base_uri": "https://localhost:8080/"
        },
        "id": "vpgTMkI-zkU-",
        "outputId": "ca9db8a6-3e5c-43c5-eb0c-f69289e9ba3f"
      },
      "outputs": [
        {
          "output_type": "stream",
          "name": "stdout",
          "text": [
            "DNN(\n",
            "  (linear1): Linear(in_features=5, out_features=15, bias=True)\n",
            "  (linear2): Linear(in_features=15, out_features=10, bias=True)\n",
            "  (linear3): Linear(in_features=10, out_features=7, bias=True)\n",
            "  (m): ReLU()\n",
            ")\n"
          ]
        }
      ],
      "source": [
        "print(model_dnn1)"
      ]
    },
    {
      "cell_type": "code",
      "execution_count": null,
      "metadata": {
        "colab": {
          "base_uri": "https://localhost:8080/"
        },
        "id": "hYK8n7L1MtsC",
        "outputId": "01856eed-729f-493b-ae6b-4a63c209f56c"
      },
      "outputs": [
        {
          "output_type": "stream",
          "name": "stdout",
          "text": [
            "[epoch: 0] loss: 1.9398\n",
            "[epoch: 100] loss: 1.8950\n",
            "[epoch: 200] loss: 1.8888\n",
            "[epoch: 300] loss: 1.8865\n",
            "[epoch: 400] loss: 1.8855\n",
            "[epoch: 500] loss: 1.8848\n",
            "[epoch: 600] loss: 1.8842\n",
            "[epoch: 700] loss: 1.8838\n",
            "CPU times: user 2min 9s, sys: 339 ms, total: 2min 9s\n",
            "Wall time: 2min 10s\n"
          ]
        }
      ],
      "source": [
        "%%time\n",
        "loss_graph = []\n",
        "epochs = 800\n",
        "history=[]\n",
        "model_dnn1.train()\n",
        "\n",
        "for epoch in range(epochs):\n",
        "  running_loss = 0.0\n",
        "  for xx, yy in trainloader:\n",
        "    yhat = model_dnn1(xx)\n",
        "    loss = loss_ftn(yhat, yy)\n",
        "    optimizer.zero_grad()\n",
        "    loss.backward()\n",
        "    optimizer.step()\n",
        "    running_loss += loss.item()*len(xx)\n",
        "  \n",
        "  loss_graph.append(running_loss/len(trainloader.dataset))\n",
        "  \n",
        "  if epoch % 100 == 0:\n",
        "      print('[epoch: %d] loss: %.4f' %(epoch, running_loss/len(trainloader.dataset)))"
      ]
    },
    {
      "cell_type": "code",
      "execution_count": null,
      "metadata": {
        "colab": {
          "base_uri": "https://localhost:8080/",
          "height": 283
        },
        "id": "kJ2ms9TaMtoo",
        "outputId": "ca6ee16e-0e25-423c-e456-0bf11dc2aa2f"
      },
      "outputs": [
        {
          "output_type": "execute_result",
          "data": {
            "text/plain": [
              "[<matplotlib.lines.Line2D at 0x7f305de10940>]"
            ]
          },
          "metadata": {},
          "execution_count": 54
        },
        {
          "output_type": "display_data",
          "data": {
            "text/plain": [
              "<Figure size 432x288 with 1 Axes>"
            ],
            "image/png": "[encoded data removed]"
          },
          "metadata": {
            "needs_background": "light"
          }
        }
      ],
      "source": [
        "plt.plot(loss_graph)"
      ]
    },
    {
      "cell_type": "code",
      "execution_count": null,
      "metadata": {
        "colab": {
          "base_uri": "https://localhost:8080/"
        },
        "id": "TcKu2SywMtlS",
        "outputId": "3059369f-a676-47c3-cb17-93903a7a634a"
      },
      "outputs": [
        {
          "output_type": "stream",
          "name": "stdout",
          "text": [
            "Test Accuracy of DNN: 27.30%\n"
          ]
        }
      ],
      "source": [
        "def DNN_testAccuracy():\n",
        "    \n",
        "    model_dnn1.eval()\n",
        "    accuracy = 0.0\n",
        "    total = 0.0\n",
        "    \n",
        "    with torch.no_grad():\n",
        "        for xx, yy in testloader:\n",
        "            outputs = model_dnn1(xx)\n",
        "            _, predicted = torch.max(outputs.data, 1)\n",
        "            total += xx.shape[0]\n",
        "            # print(total)\n",
        "            accuracy += (predicted == yy).sum().item()\n",
        "    \n",
        "    accuracy = (100 * accuracy / total)\n",
        "    print('Test Accuracy of DNN: %.2f%%' %(accuracy))\n",
        "\n",
        "DNN_testAccuracy()"
      ]
    },
    {
      "cell_type": "code",
      "execution_count": null,
      "metadata": {
        "colab": {
          "base_uri": "https://localhost:8080/"
        },
        "id": "6WGqY5rpUrPq",
        "outputId": "9c68eef9-e06c-4ba4-d329-12675a9c76b2"
      },
      "outputs": [
        {
          "output_type": "stream",
          "name": "stdout",
          "text": [
            "tensor(0.1528) tensor(0.2016)\n"
          ]
        }
      ],
      "source": [
        "__, pred = torch.max(model_dnn1(x_test).data, 1)\n",
        "\n",
        "multiprecision = MulticlassPrecision(num_classes=7)\n",
        "dnn_x_prec = multiprecision(pred, y_test)\n",
        "multirecall = MulticlassRecall(num_classes=7)\n",
        "dnn_x_recall = multirecall(pred, y_test)\n",
        "\n",
        "print(dnn_x_prec, dnn_x_recall)"
      ]
    },
    {
      "cell_type": "markdown",
      "metadata": {
        "id": "suI_AFEeUrbZ"
      },
      "source": [
        "#4. DNN with X,Y1,...,Y10"
      ]
    },
    {
      "cell_type": "code",
      "execution_count": null,
      "metadata": {
        "id": "PwOZoEKMUxgL"
      },
      "outputs": [],
      "source": [
        "X_train = np.concatenate([X[:N_valid], Y_label[:N_valid, :-1]], axis=1)\n",
        "X_test = np.concatenate([X[N_valid:], Y_label[N_valid:, :-1]], axis=1)\n",
        "Y_train = Y_label[:N_valid, -1]\n",
        "Y_test = Y_label[N_valid:, -1]\n",
        "\n",
        "from torch.utils.data import TensorDataset, DataLoader\n",
        "X_train = torch.tensor(X_train, dtype = torch.float32)\n",
        "Y_train = torch.tensor(Y_train, dtype = torch.int64)\n",
        "train_data = TensorDataset(X_train, Y_train)\n",
        "trainloader= DataLoader(dataset = train_data, batch_size=128, shuffle=True)\n",
        "\n",
        "X_test = torch.tensor(X_test, dtype=torch.float32)\n",
        "Y_test = torch.tensor(Y_test, dtype=torch.int64)\n",
        "test_data = TensorDataset(X_test, Y_test)\n",
        "testloader= DataLoader(dataset = test_data, batch_size=128, shuffle=True)"
      ]
    },
    {
      "cell_type": "code",
      "execution_count": null,
      "metadata": {
        "id": "hIM19W1aUrba"
      },
      "outputs": [],
      "source": [
        "input_size = X_train.shape[1]"
      ]
    },
    {
      "cell_type": "code",
      "execution_count": null,
      "metadata": {
        "id": "cNSVjmhYUrba"
      },
      "outputs": [],
      "source": [
        "class DNN(nn.Module):\n",
        "  def __init__(self):\n",
        "    super().__init__()\n",
        "    self.input_size = input_size \n",
        "    self.linear1 = torch.nn.Linear(input_size,15)\n",
        "    self.linear2 = torch.nn.Linear(15,10)\n",
        "    self.linear3 = torch.nn.Linear(10,7)\n",
        "    self.m = torch.nn.ReLU()\n",
        "    \n",
        "  def forward(self, x):\n",
        "    x = self.linear1(x)\n",
        "    x = self.m(x)\n",
        "    x = self.linear2(x)\n",
        "    x = self.m(x)\n",
        "    x = self.linear3(x)\n",
        "    \n",
        "    return x"
      ]
    },
    {
      "cell_type": "code",
      "execution_count": null,
      "metadata": {
        "id": "kBO7naFPUrba"
      },
      "outputs": [],
      "source": [
        "model_dnn2 = DNN()\n",
        "optimizer = torch.optim.SGD(model_dnn2.parameters(), lr = 0.01)\n",
        "loss_ftn = torch.nn.CrossEntropyLoss()"
      ]
    },
    {
      "cell_type": "code",
      "execution_count": null,
      "metadata": {
        "colab": {
          "base_uri": "https://localhost:8080/"
        },
        "id": "RRbyDGdZUrbb",
        "outputId": "15ff2257-5f04-4785-825a-299d17c56cc0"
      },
      "outputs": [
        {
          "output_type": "stream",
          "name": "stdout",
          "text": [
            "[epoch: 0] loss: 1.9938\n",
            "[epoch: 100] loss: 1.5058\n",
            "[epoch: 200] loss: 1.4037\n",
            "[epoch: 300] loss: 1.3504\n",
            "[epoch: 400] loss: 1.2902\n",
            "[epoch: 500] loss: 1.2511\n",
            "[epoch: 600] loss: 1.2149\n",
            "[epoch: 700] loss: 1.1963\n",
            "CPU times: user 57.2 s, sys: 147 ms, total: 57.3 s\n",
            "Wall time: 57.4 s\n"
          ]
        }
      ],
      "source": [
        "%%time\n",
        "loss_graph = []\n",
        "epochs = 800\n",
        "history=[]\n",
        "model_dnn2.train()\n",
        "\n",
        "for epoch in range(epochs):\n",
        "  running_loss = 0.0\n",
        "  for xx, yy in trainloader:\n",
        "    yhat = model_dnn2(xx)\n",
        "    loss = loss_ftn(yhat, yy)\n",
        "    optimizer.zero_grad()\n",
        "    loss.backward()\n",
        "    optimizer.step()\n",
        "    running_loss += loss.item()*len(xx)\n",
        "  \n",
        "  history.append(loss.item())\n",
        "  loss_graph.append(running_loss/len(trainloader.dataset))\n",
        "  if epoch % 100 == 0:\n",
        "      print('[epoch: %d] loss: %.4f' %(epoch, running_loss/len(trainloader.dataset)))"
      ]
    },
    {
      "cell_type": "code",
      "execution_count": null,
      "metadata": {
        "colab": {
          "base_uri": "https://localhost:8080/",
          "height": 283
        },
        "id": "kxftX-m1Urbb",
        "outputId": "91c58486-4dd1-4b7e-af88-89d69cb88e88"
      },
      "outputs": [
        {
          "output_type": "execute_result",
          "data": {
            "text/plain": [
              "[<matplotlib.lines.Line2D at 0x7f305dc73730>]"
            ]
          },
          "metadata": {},
          "execution_count": 76
        },
        {
          "output_type": "display_data",
          "data": {
            "text/plain": [
              "<Figure size 432x288 with 1 Axes>"
            ],
            "image/png": "[encoded data removed]"
          },
          "metadata": {
            "needs_background": "light"
          }
        }
      ],
      "source": [
        "plt.plot(loss_graph)"
      ]
    },
    {
      "cell_type": "code",
      "execution_count": null,
      "metadata": {
        "colab": {
          "base_uri": "https://localhost:8080/"
        },
        "id": "TQUTCS6DUrbc",
        "outputId": "f7891e90-739a-4278-df0b-e0a5fd5d7fda"
      },
      "outputs": [
        {
          "output_type": "stream",
          "name": "stdout",
          "text": [
            "tensor([5, 1, 0, 0, 4, 3, 0, 3, 5, 5, 1, 3, 1, 4, 2, 4, 1, 3, 3, 2, 2, 4, 5, 4,\n",
            "        4, 0, 5, 3, 3, 1, 4, 3])\n",
            "tensor([5, 1, 0, 3, 4, 3, 0, 3, 4, 6, 2, 3, 1, 4, 3, 4, 1, 1, 3, 2, 3, 4, 5, 4,\n",
            "        5, 3, 3, 4, 2, 1, 3, 3])\n",
            "Test Accuracy of DNN: 58.80%\n"
          ]
        }
      ],
      "source": [
        "def DNN_testAccuracy():\n",
        "    \n",
        "    model_dnn2.eval()\n",
        "    accuracy = 0.0\n",
        "    total = 0.0  \n",
        "    \n",
        "    with torch.no_grad():\n",
        "        for xx, yy in testloader:\n",
        "            outputs = model_dnn2(xx)\n",
        "            _, predicted = torch.max(outputs.data, 1)\n",
        "            total += xx.shape[0]\n",
        "            accuracy += (predicted == yy).sum().item()\n",
        "    \n",
        "    accuracy = (100 * accuracy / total)\n",
        "    print(predicted)\n",
        "    print(yy)\n",
        "    print('Test Accuracy of DNN: %.2f%%' %(accuracy))\n",
        "\n",
        "DNN_testAccuracy()"
      ]
    },
    {
      "cell_type": "code",
      "execution_count": null,
      "metadata": {
        "colab": {
          "base_uri": "https://localhost:8080/"
        },
        "id": "DfUFYI670MrM",
        "outputId": "bce583f9-64d9-449f-f971-defa63e95e6a"
      },
      "outputs": [
        {
          "output_type": "stream",
          "name": "stdout",
          "text": [
            "tensor(0.5931) tensor(0.6181)\n"
          ]
        }
      ],
      "source": [
        "__, pred = torch.max(model_dnn2(X_test).data, 1)\n",
        "\n",
        "multiprecision = MulticlassPrecision(num_classes=7)\n",
        "dnn_xy_prec = multiprecision(pred, Y_test)\n",
        "multirecall = MulticlassRecall(num_classes=7)\n",
        "dnn_xy_recall = multirecall(pred, Y_test)\n",
        "\n",
        "print(dnn_xy_prec, dnn_xy_recall)\n"
      ]
    },
    {
      "cell_type": "markdown",
      "metadata": {
        "id": "l3CM8_nbOwwd"
      },
      "source": [
        "#5. RNN with X only"
      ]
    },
    {
      "cell_type": "code",
      "execution_count": null,
      "metadata": {
        "colab": {
          "base_uri": "https://localhost:8080/"
        },
        "id": "83PjKz42XscJ",
        "outputId": "225b3958-0038-4af1-fec3-eb378e2fdc7c"
      },
      "outputs": [
        {
          "output_type": "stream",
          "name": "stdout",
          "text": [
            "(6000, 10, 5)\n",
            "(6000, 10, 1)\n",
            "(4000, 10, 5)\n",
            "(4000, 10, 1)\n"
          ]
        }
      ],
      "source": [
        "XX_train = np.stack([X[:N_valid]]*10, axis=1)\n",
        "Train_label = Y_label[:N_valid, 1:, np.newaxis]\n",
        "print(XX_train.shape)\n",
        "print(Train_label.shape)\n",
        "\n",
        "XX_test = np.stack([X[N_valid:]]*10, axis=1)\n",
        "Test_label = Y_label[N_valid:, 1:, np.newaxis]\n",
        "\n",
        "print(XX_test.shape)\n",
        "print(Test_label.shape)\n",
        "\n",
        "XX_train = torch.tensor(XX_train, dtype=torch.float32)\n",
        "Train_label = torch.tensor(Train_label, dtype=torch.int64)\n",
        "Train_data = TensorDataset(XX_train, Train_label)\n",
        "Trainloader= DataLoader(dataset = Train_data, batch_size = 32, shuffle=True)\n",
        "\n",
        "XX_test = torch.tensor(XX_test, dtype=torch.float32)\n",
        "Test_label = torch.tensor(Test_label, dtype=torch.int64)\n",
        "Test_data = TensorDataset(XX_test, Test_label)\n",
        "Testloader= DataLoader(dataset = Test_data, batch_size = 32, shuffle=True)"
      ]
    },
    {
      "cell_type": "code",
      "execution_count": null,
      "metadata": {
        "id": "a0SzZ2K-Mth_"
      },
      "outputs": [],
      "source": [
        "input_size = XX_train.shape[2]  #5\n",
        "num_layers = 3\n",
        "hidden_size = 6"
      ]
    },
    {
      "cell_type": "code",
      "execution_count": null,
      "metadata": {
        "id": "cf-iUQgwO5sX"
      },
      "outputs": [],
      "source": [
        "class many_to_many_rnn(nn.Module):\n",
        "    \n",
        "    def __init__(self, input_size, hidden_size, num_layers):\n",
        "        super(many_to_many_rnn, self).__init__()\n",
        "        self.hidden_size = hidden_size #8\n",
        "        self.num_layers = num_layers #3\n",
        "        self.input_size = input_size #5\n",
        "        self.rnn = nn.RNN(input_size=input_size, hidden_size=hidden_size, num_layers=num_layers, batch_first=True)\n",
        "        self.fc = nn.Linear(hidden_size, 7)\n",
        "        \n",
        "    def forward(self, x):\n",
        "        h0 = torch.zeros(self.num_layers, x.shape[0], self.hidden_size)\n",
        "        out, hn = self.rnn(x, h0) \n",
        "        out = self.fc(out) \n",
        "        return out"
      ]
    },
    {
      "cell_type": "code",
      "execution_count": null,
      "metadata": {
        "id": "EtIee3pvO5pf"
      },
      "outputs": [],
      "source": [
        "model_rnn1 = many_to_many_rnn(input_size=input_size, \n",
        "                   hidden_size=hidden_size,  \n",
        "                   num_layers=num_layers)"
      ]
    },
    {
      "cell_type": "code",
      "execution_count": null,
      "metadata": {
        "colab": {
          "base_uri": "https://localhost:8080/"
        },
        "id": "kZOtdN0h0W3K",
        "outputId": "6c45e400-3502-45b0-9da2-64f3d1b28122"
      },
      "outputs": [
        {
          "output_type": "stream",
          "name": "stdout",
          "text": [
            "many_to_many_rnn(\n",
            "  (rnn): RNN(5, 6, num_layers=3, batch_first=True)\n",
            "  (fc): Linear(in_features=6, out_features=7, bias=True)\n",
            ")\n"
          ]
        }
      ],
      "source": [
        "print(model_rnn1)"
      ]
    },
    {
      "cell_type": "code",
      "execution_count": null,
      "metadata": {
        "id": "WpHJsgx3Pqwb"
      },
      "outputs": [],
      "source": [
        "optimizer = torch.optim.SGD(model_rnn1.parameters(), lr = 0.01)\n",
        "loss_ftn = torch.nn.CrossEntropyLoss()"
      ]
    },
    {
      "cell_type": "code",
      "execution_count": null,
      "metadata": {
        "colab": {
          "base_uri": "https://localhost:8080/"
        },
        "id": "Vl6c9nexO5m1",
        "outputId": "a0f0b387-f1b9-44d1-c4c8-e9563b9f9892"
      },
      "outputs": [
        {
          "output_type": "stream",
          "name": "stdout",
          "text": [
            "[epoch: 0] loss: 0.6113\n",
            "[epoch: 100] loss: 0.5952\n",
            "[epoch: 200] loss: 0.5939\n",
            "[epoch: 300] loss: 0.5937\n",
            "CPU times: user 3min 6s, sys: 284 ms, total: 3min 7s\n",
            "Wall time: 3min 7s\n"
          ]
        }
      ],
      "source": [
        "%%time\n",
        "loss_graph = []\n",
        "num_epochs = 400\n",
        "model_rnn1.train()\n",
        "history=[]\n",
        "for epoch in range(num_epochs):\n",
        "    running_loss = 0.0  \n",
        "    for xx, yy in Trainloader:\n",
        "        out = model_rnn1(xx)\n",
        "        loss = 0\n",
        "        for t in range(10):\n",
        "          loss = loss_ftn(out[:,t,:], yy[:,t,0])\n",
        "          running_loss += loss.item()\n",
        "\n",
        "        optimizer.zero_grad()\n",
        "        loss.backward()\n",
        "        optimizer.step()\n",
        "\n",
        "    loss_graph.append(running_loss/len(Trainloader.dataset))\n",
        "\n",
        "    if epoch % 100 == 0:\n",
        "        print('[epoch: %d] loss: %.4f' %(epoch, running_loss/len(Trainloader.dataset)))\n"
      ]
    },
    {
      "cell_type": "code",
      "execution_count": null,
      "metadata": {
        "colab": {
          "base_uri": "https://localhost:8080/",
          "height": 283
        },
        "id": "gUBziuW1O5kO",
        "outputId": "c510ccb7-27f0-4a6c-fdbb-d9fa82823556"
      },
      "outputs": [
        {
          "output_type": "execute_result",
          "data": {
            "text/plain": [
              "[<matplotlib.lines.Line2D at 0x7f3bd7d0cc40>]"
            ]
          },
          "metadata": {},
          "execution_count": 63
        },
        {
          "output_type": "display_data",
          "data": {
            "text/plain": [
              "<Figure size 432x288 with 1 Axes>"
            ],
            "image/png": "[encoded data removed]"
          },
          "metadata": {
            "needs_background": "light"
          }
        }
      ],
      "source": [
        "plt.plot(loss_graph)"
      ]
    },
    {
      "cell_type": "code",
      "execution_count": null,
      "metadata": {
        "colab": {
          "base_uri": "https://localhost:8080/"
        },
        "id": "d9urNneiO5hd",
        "outputId": "9ed993a5-6c76-41f2-c0f4-32c396bb62a6"
      },
      "outputs": [
        {
          "output_type": "stream",
          "name": "stdout",
          "text": [
            "Test Accuracy of RNN: 25.43%\n"
          ]
        }
      ],
      "source": [
        "def RNN_testAccuracy():\n",
        "    \n",
        "    model_rnn1.eval()\n",
        "    accuracy = 0.0\n",
        "    total = 0.0\n",
        "    \n",
        "    with torch.no_grad():\n",
        "        for xx, yy in Testloader:\n",
        "            outputs = model_rnn1(xx)\n",
        "            _, predicted = torch.max(outputs.data, 2)\n",
        "            predicted = predicted[:,:,np.newaxis]\n",
        "            total += xx.shape[0]*10\n",
        "            accuracy += (predicted == yy).sum().item()\n",
        "\n",
        "    accuracy = (100 * accuracy / total)\n",
        "    print('Test Accuracy of RNN: %.2f%%' %(accuracy))\n",
        "    \n",
        "RNN_testAccuracy()"
      ]
    },
    {
      "cell_type": "code",
      "execution_count": null,
      "metadata": {
        "colab": {
          "base_uri": "https://localhost:8080/"
        },
        "id": "24O3kSQ30jsh",
        "outputId": "0ef4bc03-00dc-4c35-a8f6-6f95938b5727"
      },
      "outputs": [
        {
          "output_type": "stream",
          "name": "stdout",
          "text": [
            "tensor(0.1479) tensor(0.1861)\n"
          ]
        }
      ],
      "source": [
        "__, pred = torch.max(model_rnn1(XX_test).data, 2)\n",
        "pred = pred.reshape(-1,1)\n",
        "Y = Test_label.reshape(-1,1)\n",
        "\n",
        "multiprecision = MulticlassPrecision(num_classes=7)\n",
        "rnn_x_prec = multiprecision(pred, Y)\n",
        "multirecall = MulticlassRecall(num_classes=7)\n",
        "rnn_x_recall = multirecall(pred, Y)\n",
        "\n",
        "print(rnn_x_prec, rnn_x_recall)\n"
      ]
    },
    {
      "cell_type": "code",
      "execution_count": null,
      "metadata": {
        "id": "tw9_ild40jEc"
      },
      "outputs": [],
      "source": []
    },
    {
      "cell_type": "markdown",
      "metadata": {
        "id": "gHTruYnN0jTb"
      },
      "source": [
        "#6. RNN with X, Y1,...,Y10"
      ]
    },
    {
      "cell_type": "code",
      "execution_count": null,
      "metadata": {
        "colab": {
          "base_uri": "https://localhost:8080/"
        },
        "id": "XIaOK7bzVq6a",
        "outputId": "945d8bd0-e46f-476a-fc3f-5f8be1589b64"
      },
      "outputs": [
        {
          "output_type": "stream",
          "name": "stdout",
          "text": [
            "(6000, 10, 5)\n",
            "(6000, 10, 1)\n",
            "(6000, 10, 6)\n",
            "(6000, 10, 1)\n"
          ]
        }
      ],
      "source": [
        "XX_train = np.stack([X[:N_valid]]*10, axis=1)\n",
        "print(XX_train.shape)\n",
        "YY_label_train =  Y_label[:N_valid, :-1, np.newaxis]\n",
        "print(YY_label_train.shape)\n",
        "\n",
        "Train = np.concatenate([XX_train, YY_label_train], axis=2)\n",
        "Train_label = Y_label[:N_valid, 1:, np.newaxis]\n",
        "\n",
        "print(Train.shape)\n",
        "print(Train_label.shape)"
      ]
    },
    {
      "cell_type": "code",
      "execution_count": null,
      "metadata": {
        "colab": {
          "base_uri": "https://localhost:8080/"
        },
        "id": "9j2ncEnnlusH",
        "outputId": "9e1b4b15-0eec-426e-d812-5dda6803ea34"
      },
      "outputs": [
        {
          "output_type": "stream",
          "name": "stdout",
          "text": [
            "(4000, 10, 5)\n",
            "(4000, 10, 1)\n",
            "(4000, 10, 6)\n",
            "(4000, 10, 1)\n"
          ]
        }
      ],
      "source": [
        "XX_test = np.stack([X[N_valid:]]*10, axis=1)\n",
        "print(XX_test.shape)\n",
        "YY_label_test =  Y_label[N_valid:, :-1, np.newaxis]\n",
        "print(YY_label_test.shape)\n",
        "\n",
        "Test = np.concatenate([XX_test, YY_label_test], axis=2)\n",
        "Test_label = Y_label[N_valid:, 1:, np.newaxis]\n",
        "print(Test.shape)\n",
        "print(Test_label.shape)"
      ]
    },
    {
      "cell_type": "code",
      "execution_count": null,
      "metadata": {
        "id": "alpQDi6nlump"
      },
      "outputs": [],
      "source": [
        "Train = torch.tensor(Train, dtype=torch.float32)\n",
        "Train_label = torch.tensor(Train_label, dtype=torch.int64)\n",
        "Train_data = TensorDataset(Train, Train_label)\n",
        "Trainloader= DataLoader(dataset = Train_data, batch_size = 32, shuffle=True)\n",
        "\n",
        "Test = torch.tensor(Test, dtype=torch.float32)\n",
        "Test_label = torch.tensor(Test_label, dtype=torch.int64)\n",
        "Test_data = TensorDataset(Test, Test_label)\n",
        "Testloader= DataLoader(dataset = Test_data, batch_size = 32, shuffle=True)"
      ]
    },
    {
      "cell_type": "code",
      "execution_count": null,
      "metadata": {
        "id": "PaPDHppa3lQZ"
      },
      "outputs": [],
      "source": [
        "input_size = Train.shape[2]  # 6\n",
        "num_layers = 3\n",
        "hidden_size = 6"
      ]
    },
    {
      "cell_type": "code",
      "execution_count": null,
      "metadata": {
        "id": "65aPP3FR3lQc"
      },
      "outputs": [],
      "source": [
        "class many_to_many_rnn(nn.Module):\n",
        "    \n",
        "    def __init__(self, input_size, hidden_size, num_layers):\n",
        "        super(many_to_many_rnn, self).__init__()\n",
        "        self.hidden_size = hidden_size #8\n",
        "        self.num_layers = num_layers #3\n",
        "        self.input_size = input_size #6\n",
        "        self.rnn = nn.RNN(input_size=input_size, hidden_size=hidden_size, num_layers=num_layers, batch_first=True)\n",
        "        self.fc = nn.Linear(hidden_size, 7)\n",
        "        \n",
        "    def forward(self, x):\n",
        "        h0 = torch.zeros(self.num_layers, x.shape[0], self.hidden_size)\n",
        "        out, hn = self.rnn(x, h0) \n",
        "        out = self.fc(out) \n",
        "        return out"
      ]
    },
    {
      "cell_type": "code",
      "execution_count": null,
      "metadata": {
        "id": "IfDsR1ax5j5X"
      },
      "outputs": [],
      "source": [
        "model_rnn2 = many_to_many_rnn(input_size=input_size, \n",
        "                   hidden_size=hidden_size,  \n",
        "                   num_layers=num_layers)"
      ]
    },
    {
      "cell_type": "code",
      "execution_count": null,
      "metadata": {
        "colab": {
          "base_uri": "https://localhost:8080/"
        },
        "id": "UpOcoawnQQdw",
        "outputId": "0c8d2663-b0d1-4630-c561-f704dfa5f1ea"
      },
      "outputs": [
        {
          "output_type": "execute_result",
          "data": {
            "text/plain": [
              "many_to_many_rnn(\n",
              "  (rnn): RNN(6, 6, num_layers=3, batch_first=True)\n",
              "  (fc): Linear(in_features=6, out_features=7, bias=True)\n",
              ")"
            ]
          },
          "metadata": {},
          "execution_count": 72
        }
      ],
      "source": [
        "model_rnn2"
      ]
    },
    {
      "cell_type": "code",
      "execution_count": null,
      "metadata": {
        "id": "oITHCnh33lQh"
      },
      "outputs": [],
      "source": [
        "optimizer = torch.optim.SGD(model_rnn2.parameters(), lr = 0.01)\n",
        "loss_ftn = torch.nn.CrossEntropyLoss()"
      ]
    },
    {
      "cell_type": "code",
      "execution_count": null,
      "metadata": {
        "colab": {
          "base_uri": "https://localhost:8080/"
        },
        "id": "cszdqRDd3lQj",
        "outputId": "e13b34b3-6356-4a60-d721-5b91bd04d2cc"
      },
      "outputs": [
        {
          "output_type": "stream",
          "name": "stdout",
          "text": [
            "[epoch: 0] loss: 0.6098\n",
            "[epoch: 100] loss: 0.4326\n",
            "[epoch: 200] loss: 0.4171\n",
            "CPU times: user 2min 20s, sys: 230 ms, total: 2min 20s\n",
            "Wall time: 2min 20s\n"
          ]
        }
      ],
      "source": [
        "%%time\n",
        "loss_graph = []\n",
        "num_epochs = 300\n",
        "model_rnn2.train()\n",
        "history=[]\n",
        "for epoch in range(num_epochs):\n",
        "    running_loss = 0.0  \n",
        "    for xx, yy in Trainloader:\n",
        "        out = model_rnn2(xx)\n",
        "        loss = 0\n",
        "        for t in range(10):\n",
        "          loss = loss_ftn(out[:,t,:], yy[:,t,0])\n",
        "          running_loss += loss.item()\n",
        "\n",
        "        optimizer.zero_grad()\n",
        "        loss.backward()\n",
        "        optimizer.step()\n",
        "\n",
        "    loss_graph.append(running_loss/len(Trainloader.dataset))\n",
        "    if epoch % 100 == 0:\n",
        "        print('[epoch: %d] loss: %.4f' %(epoch, running_loss/len(Trainloader.dataset)))"
      ]
    },
    {
      "cell_type": "code",
      "execution_count": null,
      "metadata": {
        "colab": {
          "base_uri": "https://localhost:8080/",
          "height": 283
        },
        "id": "QkswxbSL20sg",
        "outputId": "969dba94-c669-49f6-a1fd-2619e119b375"
      },
      "outputs": [
        {
          "output_type": "execute_result",
          "data": {
            "text/plain": [
              "[<matplotlib.lines.Line2D at 0x7f3bd7c84a90>]"
            ]
          },
          "metadata": {},
          "execution_count": 75
        },
        {
          "output_type": "display_data",
          "data": {
            "text/plain": [
              "<Figure size 432x288 with 1 Axes>"
            ],
            "image/png": "[encoded data removed]"
          },
          "metadata": {
            "needs_background": "light"
          }
        }
      ],
      "source": [
        "plt.plot(loss_graph)"
      ]
    },
    {
      "cell_type": "code",
      "execution_count": null,
      "metadata": {
        "colab": {
          "base_uri": "https://localhost:8080/"
        },
        "id": "89iPEoR03bnq",
        "outputId": "548a49d8-15c2-4f1f-9f59-7a1ab1626f7d"
      },
      "outputs": [
        {
          "output_type": "stream",
          "name": "stdout",
          "text": [
            "Test Accuracy of RNN: 55.91%\n"
          ]
        }
      ],
      "source": [
        "def RNN_testAccuracy():\n",
        "    \n",
        "    model_rnn2.eval()\n",
        "    accuracy = 0.0\n",
        "    total = 0.0\n",
        "    \n",
        "    with torch.no_grad():\n",
        "        for xx, yy in Testloader:\n",
        "            outputs = model_rnn2(xx)\n",
        "            _, predicted = torch.max(outputs.data, 2)\n",
        "            predicted = predicted[:,:,np.newaxis]\n",
        "            total += xx.shape[0]*10\n",
        "            accuracy += (predicted == yy).sum().item()\n",
        "\n",
        "    accuracy = (100 * accuracy / total)\n",
        "    print('Test Accuracy of RNN: %.2f%%' %(accuracy))\n",
        "\n",
        "RNN_testAccuracy()"
      ]
    },
    {
      "cell_type": "code",
      "execution_count": null,
      "metadata": {
        "colab": {
          "base_uri": "https://localhost:8080/"
        },
        "id": "-hKY7a_c4UdF",
        "outputId": "7e725d15-ec21-4926-db3f-82dee1943b4e"
      },
      "outputs": [
        {
          "output_type": "stream",
          "name": "stdout",
          "text": [
            "tensor(0.5727) tensor(0.5760)\n"
          ]
        }
      ],
      "source": [
        "__, pred = torch.max(model_rnn2(Test).data, 2)\n",
        "pred = pred.reshape(-1,1)\n",
        "Y = Test_label.reshape(-1,1)\n",
        "\n",
        "multiprecision = MulticlassPrecision(num_classes=7)\n",
        "rnn_xy_prec = multiprecision(pred, Y)\n",
        "multirecall = MulticlassRecall(num_classes=7)\n",
        "rnn_xy_recall = multirecall(pred, Y)\n",
        "\n",
        "print(rnn_xy_prec, rnn_xy_recall)\n"
      ]
    },
    {
      "cell_type": "code",
      "execution_count": null,
      "metadata": {
        "id": "n9vKqqFzBNrO"
      },
      "outputs": [],
      "source": []
    },
    {
      "cell_type": "markdown",
      "metadata": {
        "id": "I4UNMJyitP-_"
      },
      "source": [
        "-----"
      ]
    },
    {
      "cell_type": "code",
      "execution_count": null,
      "metadata": {
        "colab": {
          "base_uri": "https://localhost:8080/"
        },
        "id": "_ejYvBj7hgS4",
        "outputId": "c846bc92-7392-486c-e15a-62b170a979ad"
      },
      "outputs": [
        {
          "output_type": "stream",
          "name": "stdout",
          "text": [
            "(6000, 10, 5)\n",
            "(6000, 10, 1)\n",
            "(4000, 10, 5)\n",
            "(4000, 10, 1)\n"
          ]
        }
      ],
      "source": [
        "XX_train = np.stack([X[:N_valid]]*10, axis=1)\n",
        "Train_label = Y_label[:N_valid, 1:, np.newaxis]\n",
        "print(XX_train.shape)\n",
        "print(Train_label.shape)\n",
        "\n",
        "XX_test = np.stack([X[N_valid:]]*10, axis=1)\n",
        "Test_label = Y_label[N_valid:, 1:, np.newaxis]\n",
        "\n",
        "print(XX_test.shape)\n",
        "print(Test_label.shape)\n",
        "\n",
        "XX_train = torch.tensor(XX_train, dtype=torch.float32)\n",
        "Train_label = torch.tensor(Train_label, dtype=torch.int64)\n",
        "Train_data = TensorDataset(XX_train, Train_label)\n",
        "Trainloader= DataLoader(dataset = Train_data, batch_size = 32, shuffle=True)\n",
        "\n",
        "XX_test = torch.tensor(XX_test, dtype=torch.float32)\n",
        "Test_label = torch.tensor(Test_label, dtype=torch.int64)\n",
        "Test_data = TensorDataset(XX_test, Test_label)\n",
        "Testloader= DataLoader(dataset = Test_data, batch_size = 32, shuffle=True)"
      ]
    },
    {
      "cell_type": "code",
      "execution_count": null,
      "metadata": {
        "id": "k1P8g5PFhgS4"
      },
      "outputs": [],
      "source": [
        "input_size = XX_train.shape[2]  #5\n",
        "num_layers = 3\n",
        "hidden_size = 6"
      ]
    },
    {
      "cell_type": "code",
      "execution_count": null,
      "metadata": {
        "id": "JPafQe1HhgS5"
      },
      "outputs": [],
      "source": [
        "class many_to_many_rnn(nn.Module):\n",
        "    \n",
        "    def __init__(self, input_size, hidden_size, num_layers):\n",
        "        super(many_to_many_rnn, self).__init__()\n",
        "        self.hidden_size = hidden_size #8\n",
        "        self.num_layers = num_layers #3\n",
        "        self.input_size = input_size #5\n",
        "        self.rnn = nn.RNN(input_size=input_size, hidden_size=hidden_size, num_layers=num_layers, batch_first=True)\n",
        "        self.fc = nn.Linear(hidden_size, 7)   # fully connected\n",
        "        \n",
        "    def forward(self, x):\n",
        "        h0 = torch.zeros(self.num_layers, x.shape[0], self.hidden_size)\n",
        "        out, hn = self.rnn(x, h0) \n",
        "        out = self.fc(out[:,-1,:]) \n",
        "        return out"
      ]
    },
    {
      "cell_type": "code",
      "execution_count": null,
      "metadata": {
        "id": "V_vSyxnChgS5"
      },
      "outputs": [],
      "source": [
        "model_rnn1 = many_to_many_rnn(input_size=input_size, \n",
        "                   hidden_size=hidden_size,  \n",
        "                   num_layers=num_layers)"
      ]
    },
    {
      "cell_type": "code",
      "execution_count": null,
      "metadata": {
        "colab": {
          "base_uri": "https://localhost:8080/"
        },
        "id": "ZJXT_JGAhgS5",
        "outputId": "891f8d04-6f53-4bbd-c714-eb69a5784ed8"
      },
      "outputs": [
        {
          "output_type": "stream",
          "name": "stdout",
          "text": [
            "many_to_many_rnn(\n",
            "  (rnn): RNN(5, 6, num_layers=3, batch_first=True)\n",
            "  (fc): Linear(in_features=6, out_features=7, bias=True)\n",
            ")\n"
          ]
        }
      ],
      "source": [
        "print(model_rnn1)"
      ]
    },
    {
      "cell_type": "code",
      "execution_count": null,
      "metadata": {
        "id": "XAVFCeSNhgS5"
      },
      "outputs": [],
      "source": [
        "optimizer = torch.optim.SGD(model_rnn1.parameters(), lr = 0.01)\n",
        "loss_ftn = torch.nn.CrossEntropyLoss()"
      ]
    },
    {
      "cell_type": "code",
      "execution_count": null,
      "metadata": {
        "colab": {
          "base_uri": "https://localhost:8080/"
        },
        "id": "FiNLN6mEhgS5",
        "outputId": "a2248e5c-bd4a-40d5-86d4-b88639045197"
      },
      "outputs": [
        {
          "output_type": "stream",
          "name": "stdout",
          "text": [
            "[epoch: 0] loss: 1.9560\n",
            "[epoch: 100] loss: 1.8931\n",
            "[epoch: 200] loss: 1.8895\n",
            "[epoch: 300] loss: 1.8883\n",
            "[epoch: 400] loss: 1.8876\n",
            "[epoch: 500] loss: 1.8869\n",
            "[epoch: 600] loss: 1.8866\n",
            "[epoch: 700] loss: 1.8858\n",
            "CPU times: user 9min 12s, sys: 940 ms, total: 9min 13s\n",
            "Wall time: 9min 13s\n"
          ]
        }
      ],
      "source": [
        "%%time\n",
        "loss_graph = []\n",
        "num_epochs = 800\n",
        "model_rnn1.train()\n",
        "history=[]\n",
        "for epoch in range(num_epochs):\n",
        "    running_loss = 0.0  \n",
        "    for xx, yy in Trainloader:\n",
        "        out = model_rnn1(xx)\n",
        "        yy = yy[:,-1,:].squeeze(dim=-1)\n",
        "        loss = loss_ftn(out, yy)\n",
        "        optimizer.zero_grad()\n",
        "        loss.backward()\n",
        "        optimizer.step()\n",
        "        running_loss += loss.item()*len(xx)\n",
        "\n",
        "    loss_graph.append(running_loss/len(Trainloader.dataset))\n",
        "    if epoch % 100 == 0:\n",
        "        print('[epoch: %d] loss: %.4f' %(epoch, running_loss/len(Trainloader.dataset)))\n"
      ]
    },
    {
      "cell_type": "code",
      "execution_count": null,
      "metadata": {
        "colab": {
          "base_uri": "https://localhost:8080/"
        },
        "id": "gDle9FBFu3Ra",
        "outputId": "843bc5b7-7851-4027-e76a-ccf134f7eb34"
      },
      "outputs": [
        {
          "output_type": "execute_result",
          "data": {
            "text/plain": [
              "torch.Size([16, 7])"
            ]
          },
          "metadata": {},
          "execution_count": 87
        }
      ],
      "source": [
        "out.shape"
      ]
    },
    {
      "cell_type": "code",
      "execution_count": null,
      "metadata": {
        "colab": {
          "base_uri": "https://localhost:8080/"
        },
        "id": "-TfotLCtv1Q3",
        "outputId": "21467ba0-8d16-4ac4-95b3-5e02751ede5d"
      },
      "outputs": [
        {
          "output_type": "execute_result",
          "data": {
            "text/plain": [
              "torch.Size([16])"
            ]
          },
          "metadata": {},
          "execution_count": 88
        }
      ],
      "source": [
        "yy.shape"
      ]
    },
    {
      "cell_type": "code",
      "execution_count": null,
      "metadata": {
        "colab": {
          "base_uri": "https://localhost:8080/",
          "height": 283
        },
        "id": "MpQc019xhgS6",
        "outputId": "b89a975a-9cef-4fb8-8dcf-92e1b38fa431"
      },
      "outputs": [
        {
          "output_type": "execute_result",
          "data": {
            "text/plain": [
              "[<matplotlib.lines.Line2D at 0x7f305db7dfd0>]"
            ]
          },
          "metadata": {},
          "execution_count": 89
        },
        {
          "output_type": "display_data",
          "data": {
            "text/plain": [
              "<Figure size 432x288 with 1 Axes>"
            ],
            "image/png": "[encoded data removed]"
          },
          "metadata": {
            "needs_background": "light"
          }
        }
      ],
      "source": [
        "plt.plot(loss_graph)"
      ]
    },
    {
      "cell_type": "code",
      "execution_count": null,
      "metadata": {
        "colab": {
          "base_uri": "https://localhost:8080/"
        },
        "id": "ASXVv5HGhgS6",
        "outputId": "ef95bc8e-354a-4590-a54c-709b34e69191"
      },
      "outputs": [
        {
          "output_type": "stream",
          "name": "stdout",
          "text": [
            "tensor([2, 3, 3, 3, 2, 3, 3, 5, 3, 2, 3, 3, 2, 2, 2, 3, 5, 3, 3, 2, 3, 5, 2, 3,\n",
            "        3, 2, 3, 3, 2, 3, 2, 3])\n",
            "tensor([2, 6, 1, 2, 3, 3, 0, 5, 3, 4, 0, 1, 5, 2, 0, 6, 1, 0, 1, 0, 3, 2, 3, 4,\n",
            "        6, 1, 3, 5, 6, 5, 1, 4])\n",
            "Test Accuracy of RNN: 26.95%\n"
          ]
        }
      ],
      "source": [
        "def RNN_testAccuracy():\n",
        "    \n",
        "    model_rnn1.eval()\n",
        "    accuracy = 0.0\n",
        "    total = 0.0\n",
        "    \n",
        "    with torch.no_grad():\n",
        "        for xx, yy in Testloader:\n",
        "            outputs = model_rnn1(xx)\n",
        "            _, predicted = torch.max(outputs.data, 1)\n",
        "            yy = yy[:,-1,:].squeeze(dim=-1)\n",
        "            total += xx.shape[0]\n",
        "            accuracy += (predicted == yy).sum().item()\n",
        "    accuracy = (100*accuracy / total)\n",
        "    print(predicted)\n",
        "    print(yy)\n",
        "    print('Test Accuracy of RNN: %.2f%%' %(accuracy))\n",
        "    \n",
        "RNN_testAccuracy()"
      ]
    },
    {
      "cell_type": "code",
      "execution_count": null,
      "metadata": {
        "colab": {
          "base_uri": "https://localhost:8080/"
        },
        "id": "3i6-Bx2ZhgS6",
        "outputId": "f4e215c3-696e-4c5c-8a19-d5e11471dfe9"
      },
      "outputs": [
        {
          "output_type": "stream",
          "name": "stdout",
          "text": [
            "tensor(0.1082) tensor(0.1974)\n"
          ]
        }
      ],
      "source": [
        "__, pred = torch.max(model_rnn1(XX_test).data, 1)\n",
        "Y = Test_label[:,-1,:].squeeze(dim=-1)\n",
        "\n",
        "multiprecision = MulticlassPrecision(num_classes=7)\n",
        "rnn_x_prec = multiprecision(pred, Y)\n",
        "multirecall = MulticlassRecall(num_classes=7)\n",
        "rnn_x_recall = multirecall(pred, Y)\n",
        "\n",
        "print(rnn_x_prec, rnn_x_recall)\n"
      ]
    },
    {
      "cell_type": "code",
      "execution_count": null,
      "metadata": {
        "id": "La56pqCoOXXp",
        "colab": {
          "base_uri": "https://localhost:8080/"
        },
        "outputId": "95acaf35-41cf-4608-9d35-640f148c74f7"
      },
      "outputs": [
        {
          "output_type": "execute_result",
          "data": {
            "text/plain": [
              "tensor(1092)"
            ]
          },
          "metadata": {},
          "execution_count": 117
        }
      ],
      "source": [
        "(pred==Y).sum()"
      ]
    },
    {
      "cell_type": "code",
      "execution_count": null,
      "metadata": {
        "id": "9RaZlwlIjiA5"
      },
      "outputs": [],
      "source": []
    },
    {
      "cell_type": "code",
      "source": [],
      "metadata": {
        "id": "TudqrDsbQS1P"
      },
      "execution_count": null,
      "outputs": []
    },
    {
      "cell_type": "code",
      "source": [],
      "metadata": {
        "id": "fA5v0YLZQSoc"
      },
      "execution_count": null,
      "outputs": []
    },
    {
      "cell_type": "code",
      "source": [],
      "metadata": {
        "id": "VRAVgfFBQSk1"
      },
      "execution_count": null,
      "outputs": []
    },
    {
      "cell_type": "code",
      "execution_count": null,
      "metadata": {
        "colab": {
          "base_uri": "https://localhost:8080/"
        },
        "id": "7-JzkytUjiPn",
        "outputId": "e18e062e-d1ee-4815-db82-f25ae5b2f32d"
      },
      "outputs": [
        {
          "output_type": "stream",
          "name": "stdout",
          "text": [
            "(6000, 10, 5)\n",
            "(6000, 10, 1)\n",
            "(6000, 10, 6)\n",
            "(6000, 10, 1)\n"
          ]
        }
      ],
      "source": [
        "XX_train = np.stack([X[:N_valid]]*10, axis=1)\n",
        "print(XX_train.shape)\n",
        "YY_label_train =  Y_label[:N_valid, :-1, np.newaxis]\n",
        "print(YY_label_train.shape)\n",
        "\n",
        "Train = np.concatenate([XX_train, YY_label_train], axis=2)\n",
        "Train_label = Y_label[:N_valid, 1:, np.newaxis]\n",
        "\n",
        "print(Train.shape)\n",
        "print(Train_label.shape)"
      ]
    },
    {
      "cell_type": "code",
      "execution_count": null,
      "metadata": {
        "colab": {
          "base_uri": "https://localhost:8080/"
        },
        "id": "PbK5QjY9jiPn",
        "outputId": "82f33df8-c014-404f-f0ef-b6bdcd2d21f8"
      },
      "outputs": [
        {
          "output_type": "stream",
          "name": "stdout",
          "text": [
            "(4000, 10, 5)\n",
            "(4000, 10, 1)\n",
            "(4000, 10, 6)\n",
            "(4000, 10, 1)\n"
          ]
        }
      ],
      "source": [
        "XX_test = np.stack([X[N_valid:]]*10, axis=1)\n",
        "print(XX_test.shape)\n",
        "YY_label_test =  Y_label[N_valid:, :-1, np.newaxis]\n",
        "print(YY_label_test.shape)\n",
        "\n",
        "Test = np.concatenate([XX_test, YY_label_test], axis=2)\n",
        "Test_label = Y_label[N_valid:, 1:, np.newaxis]\n",
        "print(Test.shape)\n",
        "print(Test_label.shape)"
      ]
    },
    {
      "cell_type": "code",
      "execution_count": null,
      "metadata": {
        "id": "XSIdrTnkjiPo"
      },
      "outputs": [],
      "source": [
        "Train = torch.tensor(Train, dtype=torch.float32)\n",
        "Train_label = torch.tensor(Train_label, dtype=torch.int64)\n",
        "Train_data = TensorDataset(Train, Train_label)\n",
        "Trainloader= DataLoader(dataset = Train_data, batch_size = 32, shuffle=True)\n",
        "\n",
        "Test = torch.tensor(Test, dtype=torch.float32)\n",
        "Test_label = torch.tensor(Test_label, dtype=torch.int64)\n",
        "Test_data = TensorDataset(Test, Test_label)\n",
        "Testloader= DataLoader(dataset = Test_data, batch_size = 32, shuffle=True)"
      ]
    },
    {
      "cell_type": "code",
      "execution_count": null,
      "metadata": {
        "id": "3xtPzfYfjiPo"
      },
      "outputs": [],
      "source": [
        "input_size = Train.shape[2]  # 6\n",
        "num_layers = 3\n",
        "hidden_size = 6"
      ]
    },
    {
      "cell_type": "code",
      "execution_count": null,
      "metadata": {
        "id": "dYtve4z9jiPo"
      },
      "outputs": [],
      "source": [
        "class many_to_many_rnn(nn.Module):\n",
        "    \n",
        "    def __init__(self, input_size, hidden_size, num_layers):\n",
        "        super(many_to_many_rnn, self).__init__()\n",
        "        self.hidden_size = hidden_size #8\n",
        "        self.num_layers = num_layers #3\n",
        "        self.input_size = input_size #6\n",
        "        self.rnn = nn.RNN(input_size=input_size, hidden_size=hidden_size, num_layers=num_layers, batch_first=True)\n",
        "        self.fc = nn.Linear(hidden_size, 7)\n",
        "        \n",
        "    def forward(self, x):\n",
        "        h0 = torch.zeros(self.num_layers, x.shape[0], self.hidden_size)\n",
        "        out, hn = self.rnn(x, h0) \n",
        "        out = self.fc(out[:,-1,:]) \n",
        "        return out"
      ]
    },
    {
      "cell_type": "code",
      "execution_count": null,
      "metadata": {
        "id": "K5BMuDDAjiPo"
      },
      "outputs": [],
      "source": [
        "model_rnn2 = many_to_many_rnn(input_size=input_size, \n",
        "                   hidden_size=hidden_size,  \n",
        "                   num_layers=num_layers)"
      ]
    },
    {
      "cell_type": "code",
      "execution_count": null,
      "metadata": {
        "colab": {
          "base_uri": "https://localhost:8080/"
        },
        "id": "VPPLzWQ6jiPo",
        "outputId": "4b248c4e-bc82-4d1d-b175-0719ff974b43"
      },
      "outputs": [
        {
          "output_type": "execute_result",
          "data": {
            "text/plain": [
              "many_to_many_rnn(\n",
              "  (rnn): RNN(6, 6, num_layers=3, batch_first=True)\n",
              "  (fc): Linear(in_features=6, out_features=7, bias=True)\n",
              ")"
            ]
          },
          "metadata": {},
          "execution_count": 111
        }
      ],
      "source": [
        "model_rnn2"
      ]
    },
    {
      "cell_type": "code",
      "execution_count": null,
      "metadata": {
        "id": "yINMLujwjiPo"
      },
      "outputs": [],
      "source": [
        "optimizer = torch.optim.SGD(model_rnn2.parameters(), lr = 0.01)\n",
        "loss_ftn = torch.nn.CrossEntropyLoss()"
      ]
    },
    {
      "cell_type": "code",
      "execution_count": null,
      "metadata": {
        "colab": {
          "base_uri": "https://localhost:8080/"
        },
        "id": "Rrnu4T_GjiPp",
        "outputId": "273b1600-f3b4-4b31-e742-5d70db147aa3"
      },
      "outputs": [
        {
          "output_type": "stream",
          "name": "stdout",
          "text": [
            "[epoch: 0] loss: 1.9097\n",
            "[epoch: 100] loss: 1.1669\n",
            "[epoch: 200] loss: 1.1072\n",
            "[epoch: 300] loss: 1.0785\n",
            "[epoch: 400] loss: 1.0701\n",
            "[epoch: 500] loss: 1.0649\n",
            "[epoch: 600] loss: 1.0563\n",
            "[epoch: 700] loss: 1.0611\n",
            "CPU times: user 9min 31s, sys: 948 ms, total: 9min 32s\n",
            "Wall time: 9min 31s\n"
          ]
        }
      ],
      "source": [
        "%%time\n",
        "loss_graph = []\n",
        "num_epochs = 800\n",
        "model_rnn2.train()\n",
        "history=[]\n",
        "for epoch in range(num_epochs):\n",
        "    running_loss = 0.0  \n",
        "    for xx, yy in Trainloader:\n",
        "        out = model_rnn2(xx)\n",
        "        yy = yy[:,-1,:].squeeze(dim=-1)\n",
        "        loss = loss_ftn(out, yy)\n",
        "        optimizer.zero_grad()\n",
        "        loss.backward()\n",
        "        optimizer.step()\n",
        "        running_loss += loss.item()*len(xx)\n",
        "\n",
        "    loss_graph.append(running_loss/len(Trainloader.dataset))\n",
        "\n",
        "    if epoch % 100 == 0:\n",
        "        print('[epoch: %d] loss: %.4f' %(epoch, running_loss/len(Trainloader.dataset)))"
      ]
    },
    {
      "cell_type": "code",
      "execution_count": null,
      "metadata": {
        "colab": {
          "base_uri": "https://localhost:8080/",
          "height": 283
        },
        "id": "XGJV92pTjiPp",
        "outputId": "f1836829-efc7-4b9f-b782-5201965660db"
      },
      "outputs": [
        {
          "output_type": "execute_result",
          "data": {
            "text/plain": [
              "[<matplotlib.lines.Line2D at 0x7f305da42b80>]"
            ]
          },
          "metadata": {},
          "execution_count": 114
        },
        {
          "output_type": "display_data",
          "data": {
            "text/plain": [
              "<Figure size 432x288 with 1 Axes>"
            ],
            "image/png": "[encoded data removed]"
          },
          "metadata": {
            "needs_background": "light"
          }
        }
      ],
      "source": [
        "plt.plot(loss_graph)"
      ]
    },
    {
      "cell_type": "code",
      "execution_count": null,
      "metadata": {
        "colab": {
          "base_uri": "https://localhost:8080/"
        },
        "id": "cesrrDu4jiPp",
        "outputId": "73b5a88b-7c0e-4f79-f438-d6938a0658b4"
      },
      "outputs": [
        {
          "output_type": "stream",
          "name": "stdout",
          "text": [
            "tensor([1, 4, 3, 6, 2, 4, 2, 0, 2, 5, 6, 4, 0, 5, 4, 5, 2, 1, 6, 0, 5, 5, 5, 2,\n",
            "        3, 3, 3, 2, 0, 5, 2, 6])\n",
            "tensor([1, 4, 4, 6, 1, 4, 2, 6, 2, 2, 6, 4, 0, 5, 4, 2, 2, 1, 1, 1, 5, 5, 5, 5,\n",
            "        4, 3, 3, 2, 3, 5, 3, 6])\n",
            "Test Accuracy of RNN: 62.00%\n"
          ]
        }
      ],
      "source": [
        "def RNN_testAccuracy():\n",
        "    \n",
        "    model_rnn2.eval()\n",
        "    accuracy = 0.0\n",
        "    total = 0.0\n",
        "    \n",
        "    with torch.no_grad():\n",
        "        for xx, yy in Testloader:\n",
        "            outputs = model_rnn2(xx)\n",
        "            _, predicted = torch.max(outputs.data, 1)\n",
        "            # predicted = predicted[:,:,np.newaxis]\n",
        "            yy = yy[:,-1,:].squeeze(dim=-1)\n",
        "            total += xx.shape[0]\n",
        "            accuracy += (predicted == yy).sum().item()\n",
        "\n",
        "    accuracy = (100 * accuracy / total)\n",
        "    print(predicted)\n",
        "    print(yy)\n",
        "    print('Test Accuracy of RNN: %.2f%%' %(accuracy))\n",
        "\n",
        "RNN_testAccuracy()"
      ]
    },
    {
      "cell_type": "code",
      "execution_count": null,
      "metadata": {
        "colab": {
          "base_uri": "https://localhost:8080/"
        },
        "id": "1DbXE87LjiPp",
        "outputId": "f1761804-4665-466d-bba8-fcd6d636ba62"
      },
      "outputs": [
        {
          "output_type": "stream",
          "name": "stdout",
          "text": [
            "tensor(0.6210) tensor(0.6539)\n"
          ]
        }
      ],
      "source": [
        "__, pred = torch.max(model_rnn2(Test).data, 1)\n",
        "Y = Test_label[:,-1,:].squeeze(dim=-1)\n",
        "multiprecision = MulticlassPrecision(num_classes=7)\n",
        "rnn_xy_prec = multiprecision(pred, Y)\n",
        "multirecall = MulticlassRecall(num_classes=7)\n",
        "rnn_xy_recall = multirecall(pred, Y)\n",
        "\n",
        "print(rnn_xy_prec, rnn_xy_recall)\n"
      ]
    },
    {
      "cell_type": "code",
      "execution_count": null,
      "metadata": {
        "id": "lgNUOjtNpgsZ"
      },
      "outputs": [],
      "source": []
    }
  ],
  "metadata": {
    "colab": {
      "provenance": []
    },
    "kernelspec": {
      "display_name": "Python 3",
      "name": "python3"
    },
    "language_info": {
      "name": "python"
    }
  },
  "nbformat": 4,
  "nbformat_minor": 0
}